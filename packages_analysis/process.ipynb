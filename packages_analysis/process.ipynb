{
 "cells": [
  {
   "cell_type": "markdown",
   "id": "10199e34",
   "metadata": {},
   "source": [
    "# dis-cover debian packages analysis\n",
    "\n",
    "I ran a script on a 16-core machine during the weekend to analyze all debian packages that have **libgcc1** as a dependency.\n",
    "\n",
    "Almost 24h of computation later, here is a first analysis of the results !"
   ]
  },
  {
   "cell_type": "code",
   "execution_count": 1,
   "id": "57b91197",
   "metadata": {},
   "outputs": [],
   "source": [
    "import pickle\n",
    "import matplotlib.pyplot as plt\n",
    "import numpy as np\n",
    "import requests"
   ]
  },
  {
   "cell_type": "code",
   "execution_count": 2,
   "id": "d8c7016d",
   "metadata": {},
   "outputs": [],
   "source": [
    "data = pickle.load(open(\"analysis.pickle\", \"rb\"))"
   ]
  },
  {
   "cell_type": "code",
   "execution_count": 3,
   "id": "f5f1876e",
   "metadata": {},
   "outputs": [],
   "source": [
    "total_classes = 0\n",
    "packages_where_class = 0\n",
    "classes_in_packages = []\n",
    "distribution = {}"
   ]
  },
  {
   "cell_type": "code",
   "execution_count": 4,
   "id": "ce5aa1b2",
   "metadata": {},
   "outputs": [
    {
     "name": "stdout",
     "output_type": "stream",
     "text": [
      "The total number of packages that have libgcc1 as a dependency is 5827.\n"
     ]
    }
   ],
   "source": [
    "print(\"The total number of packages that have libgcc1 as a dependency is %d.\" % len(data))"
   ]
  },
  {
   "cell_type": "code",
   "execution_count": 5,
   "id": "da7a0d55",
   "metadata": {},
   "outputs": [],
   "source": [
    "for package in data:\n",
    "    files = data[package]\n",
    "    classes = 0\n",
    "    for file in files:\n",
    "        if file == \"failed\":\n",
    "            continue\n",
    "        classes += len(file)\n",
    "        total_classes += len(file)\n",
    "    classes_in_packages.append((package, classes))\n",
    "\n",
    "    if distribution.get(classes) == None:\n",
    "        distribution[classes] = 1\n",
    "    else:\n",
    "        distribution[classes] += 1\n",
    "\n",
    "    if classes > 0:\n",
    "        packages_where_class += 1"
   ]
  },
  {
   "cell_type": "code",
   "execution_count": 6,
   "id": "8bd4608a",
   "metadata": {},
   "outputs": [
    {
     "name": "stdout",
     "output_type": "stream",
     "text": [
      "The number of packages where we were able to extract classes is 5127 out of 5827 (87%).\n",
      "This means that those packages do not use the -fno-rtti flag and use virtual methods in their code.\n",
      "The total number of classes found is 2062232.\n",
      "The mean number of classes in packages where there are classes is 402.\n"
     ]
    }
   ],
   "source": [
    "print(\"The number of packages where we were able to extract classes is %d out of %d (%d%%).\" % (\n",
    "    packages_where_class,\n",
    "    len(data),\n",
    "    packages_where_class / (len(data) or 1) * 100,\n",
    "))\n",
    "print(\"This means that those packages do not use the -fno-rtti flag and use virtual methods in their code.\")\n",
    "print(\"The total number of classes found is %d.\" % total_classes)\n",
    "print(\n",
    "    \"The mean number of classes in packages where there are classes is %d.\" % (total_classes / (packages_where_class or 1)),\n",
    ")"
   ]
  },
  {
   "cell_type": "code",
   "execution_count": 7,
   "id": "f9f33f7e",
   "metadata": {},
   "outputs": [
    {
     "name": "stdout",
     "output_type": "stream",
     "text": [
      "Top 20 packages by number of classes:\n",
      " - piglit has 128003 classes\n",
      " - libwine-development has 71455 classes\n",
      " - libvtk7.1 has 52660 classes\n",
      " - libwine has 51007 classes\n",
      " - libvtk6.3 has 50416 classes\n",
      " - sagemath has 44607 classes\n",
      " - paraview has 30248 classes\n",
      " - vlc-plugin-base has 29768 classes\n",
      " - grass-core has 22130 classes\n",
      " - eso-midas has 21816 classes\n",
      " - libmia-2.4-4 has 20238 classes\n",
      " - libglib2.0-tests has 17358 classes\n",
      " - gnucash has 15972 classes\n",
      " - scalapack-mpi-test has 15344 classes\n",
      " - libc6 has 12082 classes\n",
      " - krita has 12020 classes\n",
      " - libopenmpi3 has 11988 classes\n",
      " - libmagickcore-6.q16hdri-6 has 11932 classes\n",
      " - libwildmagic-examples has 11124 classes\n",
      " - libmagickcore-6.q16-6 has 10972 classes\n"
     ]
    }
   ],
   "source": [
    "classes_in_packages.sort(key=lambda p: p[1], reverse=True)\n",
    "n = 20\n",
    "print(\"Top %d packages by number of classes:\" % n)\n",
    "for (p, c) in classes_in_packages[:n]:\n",
    "    print(\" - %s has %d classes\" % (p ,c))"
   ]
  },
  {
   "cell_type": "code",
   "execution_count": 8,
   "id": "8ded2ce4",
   "metadata": {},
   "outputs": [
    {
     "data": {
      "image/png": "[encoded data removed]",
      "text/plain": [
       "<Figure size 1080x288 with 1 Axes>"
      ]
     },
     "metadata": {
      "needs_background": "light"
     },
     "output_type": "display_data"
    }
   ],
   "source": [
    "x = range(classes_in_packages[20][1])\n",
    "y = [distribution.get(v) or 0 for v in x]\n",
    "plt.figure(figsize=(15,4))\n",
    "plt.plot(x, y)\n",
    "plt.yscale('log')\n",
    "plt.title(\"Class quantity distribution excluding the top 20 packages by number of classes\")\n",
    "plt.xlabel(\"Number of classes\")\n",
    "plt.ylabel(\"Number of packages - log scale\")\n",
    "plt.show()"
   ]
  },
  {
   "cell_type": "code",
   "execution_count": 9,
   "id": "34ce44ef",
   "metadata": {},
   "outputs": [
    {
     "name": "stdout",
     "output_type": "stream",
     "text": [
      "20 classes from a random package\n",
      "\n",
      "class\tboost::bad_weak_ptr\n",
      "class\tGtk::ComboBoxText::TextModelColumns\n",
      "class\tInstrumentSelector::InstrumentListColumns\n",
      "class\tAddRouteDialog::TrackTemplateColumns\n",
      "class\tboost::exception\n",
      "class\tboost::exception_detail::error_info_injector<boost::bad_weak_ptr>\tinherits from boost::exception, boost::bad_weak_ptr\n",
      "class\tboost::exception_detail::clone_base\n",
      "class\tboost::exception_detail::clone_impl<boost::exception_detail::error_info_injector<boost::bad_weak_ptr>>\tinherits from boost::exception_detail::clone_base, boost::exception_detail::error_info_injector<boost::bad_weak_ptr>\n",
      "class\tAnalysisWindow::TrackListColumns\n",
      "class\tPBD::SignalBase\n",
      "class\tPBD::Signal0<void, PBD::OptionalLastValue<void>>\tinherits from PBD::SignalBase\n",
      "class\tfailed_constructor\n",
      "class\tPBD::Signal2<void, unsigned long, unsigned long, PBD::OptionalLastValue<void>>\tinherits from PBD::SignalBase\n",
      "class\tPBD::Destructible\n",
      "class\tPBD::Signal2<void, bool, PBD::Controllable::GroupControlDisposition, PBD::OptionalLastValue<void>>\tinherits from PBD::SignalBase\n",
      "class\tARDOUR::SessionException\n",
      "class\tPBD::Signal3<bool, float, long, long, PBD::OptionalLastValue<bool>>\tinherits from PBD::SignalBase\n",
      "class\tluabridge::LuaException\n",
      "class\tluabridge::Userdata\n",
      "class\tluabridge::UserdataPtr\tinherits from luabridge::Userdata\n"
     ]
    }
   ],
   "source": [
    "print(\"20 classes from a random package\\n\")\n",
    "print(\"\\n\".join([str(c) for c in data[\"ardour\"][\"ardour/usr/lib/ardour5/ardour-5.12.0\"]][0:20]))"
   ]
  },
  {
   "cell_type": "markdown",
   "id": "c9b056c7",
   "metadata": {},
   "source": [
    "## By popularity\n",
    "\n",
    "We now use data from [popcon](https://popcon.debian.org), the official debian popularity contest, in order to sort and isolate packages by **installation** and **usage**."
   ]
  },
  {
   "cell_type": "code",
   "execution_count": 10,
   "id": "1a7142de",
   "metadata": {},
   "outputs": [],
   "source": [
    "res = requests.get(\"https://popcon.debian.org/by_inst\")\n",
    "popularity = res.text"
   ]
  },
  {
   "cell_type": "code",
   "execution_count": 11,
   "id": "dbab5cd0",
   "metadata": {},
   "outputs": [],
   "source": [
    "classes_dict = dict(classes_in_packages)"
   ]
  },
  {
   "cell_type": "code",
   "execution_count": 12,
   "id": "d8ac945c",
   "metadata": {},
   "outputs": [],
   "source": [
    "packages_with_votes = []\n",
    "for line in popularity.split(\"\\n\")[:-3]:\n",
    "    if line[0] == \"#\":\n",
    "        continue\n",
    "    (name, inst, vote) = line.split()[1:4]\n",
    "    classes = classes_dict.get(name)\n",
    "    if classes != None:\n",
    "        packages_with_votes.append((name, int(inst), int(vote), classes))"
   ]
  },
  {
   "cell_type": "code",
   "execution_count": 13,
   "id": "a2781828",
   "metadata": {},
   "outputs": [
    {
     "name": "stdout",
     "output_type": "stream",
     "text": [
      "In the top 100 C++ packages, sorted by installations:\n",
      "There are 10 packages with no classes (either -fno-rtti or no virtual methods).\n",
      "There is a mean of 443 classes per package\n",
      "\n",
      "In the top 100 C++ packages, sorted by usage:\n",
      "There are 15 packages with no classes (either -fno-rtti or no virtual methods).\n",
      "There is a mean of 865 classes per package\n",
      "\n",
      "In the top 1000 C++ packages, sorted by installations:\n",
      "There are 87 packages with no classes (either -fno-rtti or no virtual methods).\n",
      "There is a mean of 654 classes per package\n",
      "\n",
      "In the top 1000 C++ packages, sorted by usage:\n",
      "There are 74 packages with no classes (either -fno-rtti or no virtual methods).\n",
      "There is a mean of 680 classes per package\n"
     ]
    }
   ],
   "source": [
    "by_inst = sorted(packages_with_votes, key=lambda x: x[1], reverse=True)\n",
    "by_vote = sorted(packages_with_votes, key=lambda x: x[2], reverse=True)\n",
    "\n",
    "def print_stats(sorted_list, n):\n",
    "    mean = 0\n",
    "    no_classes = 0\n",
    "    filtered_list = sorted_list[:n]\n",
    "    for v in filtered_list:\n",
    "        mean += v[-1]\n",
    "        if v[-1] == 0:\n",
    "            no_classes += 1\n",
    "    mean /= n\n",
    "    print(\"There are %d packages with no classes (either -fno-rtti or no virtual methods).\" % no_classes)\n",
    "    print(\"There is a mean of %d classes per package\" % mean)\n",
    "\n",
    "n = 100\n",
    "print(\"In the top %d C++ packages, sorted by installations:\" % n)\n",
    "print_stats(by_inst, n)\n",
    "print()\n",
    "print(\"In the top %d C++ packages, sorted by usage:\" % n)\n",
    "print_stats(by_vote, n)\n",
    "\n",
    "n = 1000\n",
    "print()\n",
    "print(\"In the top %d C++ packages, sorted by installations:\" % n)\n",
    "print_stats(by_inst, n)\n",
    "print()\n",
    "print(\"In the top %d C++ packages, sorted by usage:\" % n)\n",
    "print_stats(by_vote, n)"
   ]
  },
  {
   "cell_type": "markdown",
   "id": "8c478b37",
   "metadata": {},
   "source": [
    "## Conclusion\n",
    "\n",
    "Overall, this analysis is very positive for the project : Around **92%** of **regularly used and installed C++ packages** have RTTI info we can extract, and the quantity of classes we can recover is quite substantial !"
   ]
  }
 ],
 "metadata": {
  "kernelspec": {
   "display_name": "Python 3",
   "language": "python",
   "name": "python3"
  },
  "language_info": {
   "codemirror_mode": {
    "name": "ipython",
    "version": 3
   },
   "file_extension": ".py",
   "mimetype": "text/x-python",
   "name": "python",
   "nbconvert_exporter": "python",
   "pygments_lexer": "ipython3",
   "version": "3.8.8"
  }
 },
 "nbformat": 4,
 "nbformat_minor": 5
}
