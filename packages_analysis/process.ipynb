{
 "cells": [
  {
   "cell_type": "code",
   "execution_count": 1,
   "id": "57b91197",
   "metadata": {},
   "outputs": [],
   "source": [
    "import pickle\n",
    "import matplotlib.pyplot as plt\n",
    "import numpy as np"
   ]
  },
  {
   "cell_type": "code",
   "execution_count": 2,
   "id": "d8c7016d",
   "metadata": {},
   "outputs": [],
   "source": [
    "data = pickle.load(open(\"analysis.pickle\", \"rb\"))"
   ]
  },
  {
   "cell_type": "code",
   "execution_count": 3,
   "id": "f5f1876e",
   "metadata": {},
   "outputs": [],
   "source": [
    "total_classes = 0\n",
    "packages_where_class = 0\n",
    "classes_in_packages = []\n",
    "distribution = {}"
   ]
  },
  {
   "cell_type": "code",
   "execution_count": 4,
   "id": "ce5aa1b2",
   "metadata": {},
   "outputs": [
    {
     "name": "stdout",
     "output_type": "stream",
     "text": [
      "Total number of packages is 5827\n"
     ]
    }
   ],
   "source": [
    "print(\"Total number of packages is\", len(data))"
   ]
  },
  {
   "cell_type": "code",
   "execution_count": 5,
   "id": "da7a0d55",
   "metadata": {},
   "outputs": [],
   "source": [
    "for package in data:\n",
    "    files = data[package]\n",
    "    classes = 0\n",
    "    for file in files:\n",
    "        if file == \"failed\":\n",
    "            continue\n",
    "        classes += len(file)\n",
    "        total_classes += len(file)\n",
    "    classes_in_packages.append((package, classes))\n",
    "\n",
    "    if distribution.get(classes) == None:\n",
    "        distribution[classes] = 1\n",
    "    else:\n",
    "        distribution[classes] += 1\n",
    "\n",
    "    if classes > 0:\n",
    "        packages_where_class += 1"
   ]
  },
  {
   "cell_type": "code",
   "execution_count": 6,
   "id": "8bd4608a",
   "metadata": {},
   "outputs": [
    {
     "name": "stdout",
     "output_type": "stream",
     "text": [
      "Number of packages with classes is 5127 out of 5827\n",
      "Total number of classes is 2062232\n",
      "Mean number of classes in packages where there are classes is 402\n"
     ]
    }
   ],
   "source": [
    "print(\"Number of packages with classes is\", packages_where_class, \"out of\", len(data))\n",
    "print(\"Total number of classes is\", total_classes)\n",
    "print(\n",
    "    \"Mean number of classes in packages where there are classes is\",\n",
    "    round(total_classes / (packages_where_class or 1)),\n",
    ")"
   ]
  },
  {
   "cell_type": "code",
   "execution_count": 7,
   "id": "f9f33f7e",
   "metadata": {},
   "outputs": [
    {
     "name": "stdout",
     "output_type": "stream",
     "text": [
      "Top 20 packages:\n",
      " -  piglit has 128003 classes\n",
      " -  libwine-development has 71455 classes\n",
      " -  libvtk7.1 has 52660 classes\n",
      " -  libwine has 51007 classes\n",
      " -  libvtk6.3 has 50416 classes\n",
      " -  sagemath has 44607 classes\n",
      " -  paraview has 30248 classes\n",
      " -  vlc-plugin-base has 29768 classes\n",
      " -  grass-core has 22130 classes\n",
      " -  eso-midas has 21816 classes\n",
      " -  libmia-2.4-4 has 20238 classes\n",
      " -  libglib2.0-tests has 17358 classes\n",
      " -  gnucash has 15972 classes\n",
      " -  scalapack-mpi-test has 15344 classes\n",
      " -  libc6 has 12082 classes\n",
      " -  krita has 12020 classes\n",
      " -  libopenmpi3 has 11988 classes\n",
      " -  libmagickcore-6.q16hdri-6 has 11932 classes\n",
      " -  libwildmagic-examples has 11124 classes\n",
      " -  libmagickcore-6.q16-6 has 10972 classes\n"
     ]
    }
   ],
   "source": [
    "classes_in_packages.sort(key=lambda p: p[1], reverse=True)\n",
    "n = 20\n",
    "print(\"Top\", n, \"packages:\")\n",
    "for (p, c) in classes_in_packages[:n]:\n",
    "    print(\" - \", p, \"has\", c, \"classes\")"
   ]
  },
  {
   "cell_type": "code",
   "execution_count": 8,
   "id": "8ded2ce4",
   "metadata": {},
   "outputs": [],
   "source": [
    "x = range(classes_in_packages[20][1])\n",
    "y = [distribution.get(v) or 0 for v in x]"
   ]
  },
  {
   "cell_type": "code",
   "execution_count": 9,
   "id": "1c1bd8df",
   "metadata": {},
   "outputs": [
    {
     "data": {
      "image/png": "[encoded data removed]",
      "text/plain": [
       "<Figure size 1080x288 with 1 Axes>"
      ]
     },
     "metadata": {
      "needs_background": "light"
     },
     "output_type": "display_data"
    }
   ],
   "source": [
    "plt.figure(figsize=(15,4))\n",
    "plt.plot(x, y)\n",
    "plt.yscale('log')\n",
    "plt.title(\"Class quantity distribution excluding the top 20 packages\")\n",
    "plt.xlabel(\"Number of classes\")\n",
    "plt.ylabel(\"Number of packages - log scale\")\n",
    "plt.show()"
   ]
  },
  {
   "cell_type": "code",
   "execution_count": 10,
   "id": "34ce44ef",
   "metadata": {},
   "outputs": [
    {
     "name": "stdout",
     "output_type": "stream",
     "text": [
      "20 classes from a random package\n",
      "\n",
      "class\tboost::bad_weak_ptr\n",
      "class\tGtk::ComboBoxText::TextModelColumns\n",
      "class\tInstrumentSelector::InstrumentListColumns\n",
      "class\tAddRouteDialog::TrackTemplateColumns\n",
      "class\tboost::exception\n",
      "class\tboost::exception_detail::error_info_injector<boost::bad_weak_ptr>\tinherits from boost::exception, boost::bad_weak_ptr\n",
      "class\tboost::exception_detail::clone_base\n",
      "class\tboost::exception_detail::clone_impl<boost::exception_detail::error_info_injector<boost::bad_weak_ptr>>\tinherits from boost::exception_detail::error_info_injector<boost::bad_weak_ptr>, boost::exception_detail::clone_base\n",
      "class\tAnalysisWindow::TrackListColumns\n",
      "class\tPBD::SignalBase\n",
      "class\tPBD::Signal0<void, PBD::OptionalLastValue<void>>\tinherits from PBD::SignalBase\n",
      "class\tfailed_constructor\n",
      "class\tPBD::Signal2<void, unsigned long, unsigned long, PBD::OptionalLastValue<void>>\tinherits from PBD::SignalBase\n",
      "class\tPBD::Destructible\n",
      "class\tPBD::Signal2<void, bool, PBD::Controllable::GroupControlDisposition, PBD::OptionalLastValue<void>>\tinherits from PBD::SignalBase\n",
      "class\tARDOUR::SessionException\n",
      "class\tPBD::Signal3<bool, float, long, long, PBD::OptionalLastValue<bool>>\tinherits from PBD::SignalBase\n",
      "class\tluabridge::LuaException\n",
      "class\tluabridge::Userdata\n",
      "class\tluabridge::UserdataPtr\tinherits from luabridge::Userdata\n"
     ]
    }
   ],
   "source": [
    "print(\"20 classes from a random package\\n\")\n",
    "print(\"\\n\".join([str(c) for c in data[\"ardour\"][\"ardour/usr/lib/ardour5/ardour-5.12.0\"]][0:20]))"
   ]
  }
 ],
 "metadata": {
  "kernelspec": {
   "display_name": "Python 3",
   "language": "python",
   "name": "python3"
  },
  "language_info": {
   "codemirror_mode": {
    "name": "ipython",
    "version": 3
   },
   "file_extension": ".py",
   "mimetype": "text/x-python",
   "name": "python",
   "nbconvert_exporter": "python",
   "pygments_lexer": "ipython3",
   "version": "3.8.8"
  }
 },
 "nbformat": 4,
 "nbformat_minor": 5
}
