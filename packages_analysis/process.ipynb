{
 "cells": [
  {
   "cell_type": "markdown",
   "id": "10199e34",
   "metadata": {},
   "source": [
    "# dis-cover debian packages analysis\n",
    "\n",
    "I ran a script on a 16-core machine during the weekend to analyze all debian packages that have **libgcc1** as a dependency.\n",
    "\n",
    "Almost 24h of computation later, here is a second analysis of the results !"
   ]
  },
  {
   "cell_type": "code",
   "execution_count": 1,
   "id": "57b91197",
   "metadata": {},
   "outputs": [],
   "source": [
    "import pickle\n",
    "import matplotlib.pyplot as plt\n",
    "import numpy as np\n",
    "import requests\n",
    "from dis_cover.analysis import CppClass"
   ]
  },
  {
   "cell_type": "code",
   "execution_count": 2,
   "id": "d8c7016d",
   "metadata": {},
   "outputs": [],
   "source": [
    "data = pickle.load(open(\"analysis.2.pickle\", \"rb\"))\n",
    "source = pickle.load(open(\"source.pickle\", \"rb\"))"
   ]
  },
  {
   "cell_type": "code",
   "execution_count": 3,
   "id": "f5f1876e",
   "metadata": {},
   "outputs": [],
   "source": [
    "total_classes = 0\n",
    "packages_where_class = 0\n",
    "unique_classes = set()\n",
    "classes_in_packages = []\n",
    "distribution = {}\n",
    "no_rtti_but_classes = 0\n",
    "no_flag_no_classes = 0"
   ]
  },
  {
   "cell_type": "code",
   "execution_count": 4,
   "id": "ce5aa1b2",
   "metadata": {},
   "outputs": [
    {
     "name": "stdout",
     "output_type": "stream",
     "text": [
      "The total number of packages that have libgcc1 as a dependency is 5827.\n"
     ]
    }
   ],
   "source": [
    "print(\"The total number of packages that have libgcc1 as a dependency is %d.\" % len(data))"
   ]
  },
  {
   "cell_type": "code",
   "execution_count": 5,
   "id": "da7a0d55",
   "metadata": {},
   "outputs": [
    {
     "name": "stdout",
     "output_type": "stream",
     "text": [
      "The algorithm that extracted this data focused on binaries in four directories : \n",
      "- usr/bin\n",
      "- usr/sbin\n",
      "- usr/lib\n",
      "- usr/games\n",
      "\n",
      "There are a few malformed packages we are not able to analyze.\n",
      "    no_file_found : zutils\n",
      "    no_file_found : libpam-biometric\n",
      "    no_file_found : pcp-testsuite\n",
      "could_not_extract : patchage\n",
      "    no_file_found : libnutclient0\n",
      "could_not_extract : memlockd\n",
      "    no_file_found : libnss-libvirt\n",
      "could_not_extract : libfolia9\n",
      "could_not_extract : libbuffy-perl\n",
      "could_not_extract : iptstate\n",
      "    no_file_found : gdisk\n",
      "    no_file_found : collectd\n",
      "could_not_extract : libarpack2\n",
      "    no_file_found : apcupsd\n"
     ]
    }
   ],
   "source": [
    "print(\"The algorithm that extracted this data focused on binaries in four directories : \\n- usr/bin\\n- usr/sbin\\n- usr/lib\\n- usr/games\\n\")\n",
    "print(\"There are a few malformed packages we are not able to analyze.\")\n",
    "for package in data:\n",
    "    files = data[package]\n",
    "    classes_in_this_package = set()\n",
    "    classes = 0\n",
    "    for file in files:\n",
    "        if file in [\"failed\", \"no_file_found\", \"could_not_extract\"]:\n",
    "            print(\"%17s : %s\" % (file, package))\n",
    "            continue\n",
    "        total_classes += len(data[package][file])\n",
    "        for c in data[package][file]:\n",
    "            if c in classes_in_this_package:\n",
    "                continue\n",
    "            classes_in_this_package.add(c)\n",
    "            unique_classes.add(c)\n",
    "            classes += 1\n",
    "    classes_in_packages.append((package, classes))\n",
    "\n",
    "    if distribution.get(classes) == None:\n",
    "        distribution[classes] = 1\n",
    "    else:\n",
    "        distribution[classes] += 1\n",
    "\n",
    "    if classes > 0:\n",
    "        packages_where_class += 1\n",
    "        if len(source[package]):\n",
    "            no_rtti_but_classes += 1\n",
    "    else:\n",
    "        if not len(source[package]):\n",
    "            no_flag_no_classes += 1"
   ]
  },
  {
   "cell_type": "code",
   "execution_count": 6,
   "id": "8bd4608a",
   "metadata": {},
   "outputs": [
    {
     "name": "stdout",
     "output_type": "stream",
     "text": [
      "The number of packages where we were able to extract classes is 3194 out of 5827 (54%).\n",
      "The total number of classes found is 960188, and of those, 39% were unique across all packages.\n",
      "The mean number of unique classes in packages where there are classes is 300.\n"
     ]
    }
   ],
   "source": [
    "print(\"The number of packages where we were able to extract classes is %d out of %d (%d%%).\" % (\n",
    "    packages_where_class,\n",
    "    len(data),\n",
    "    packages_where_class / (len(data) or 1) * 100,\n",
    "))\n",
    "\n",
    "print(\"The total number of classes found is %d, and of those, %d%% were unique across all packages.\" % (\n",
    "    total_classes,\n",
    "    round(100 * len(unique_classes) / total_classes)\n",
    "))\n",
    "\n",
    "print(\n",
    "    \"The mean number of unique classes in packages where there are classes is %d.\" % (total_classes / (packages_where_class or 1)),\n",
    ")"
   ]
  },
  {
   "cell_type": "code",
   "execution_count": 7,
   "id": "9845d991",
   "metadata": {},
   "outputs": [
    {
     "data": {
      "image/png": "[encoded data removed]",
      "text/plain": [
       "<Figure size 432x288 with 1 Axes>"
      ]
     },
     "metadata": {},
     "output_type": "display_data"
    },
    {
     "name": "stdout",
     "output_type": "stream",
     "text": [
      "A \"Mention\" of `-fno-rtti` means that there were results when running a global grep for `-fno-rtti` in the package's source code\n",
      "Usually, we see that in a same project, two binaries can be compiled with different flags, which leads to this result.\n"
     ]
    }
   ],
   "source": [
    "fig, ax = plt.subplots()\n",
    "\n",
    "size = 0.3\n",
    "vals = np.array([\n",
    "    [packages_where_class - no_rtti_but_classes, no_rtti_but_classes],\n",
    "    [len(source) - packages_where_class - no_flag_no_classes, no_flag_no_classes]\n",
    "])\n",
    "\n",
    "cmap = plt.get_cmap(\"tab20c\")\n",
    "outer_colors = cmap(np.arange(3)*4)\n",
    "inner_colors = cmap([12, 9, 9, 12])\n",
    "\n",
    "wedges, texts = ax.pie(vals.sum(axis=1), radius=1, colors=outer_colors,\n",
    "       wedgeprops=dict(width=size, edgecolor='w'))\n",
    "\n",
    "wedges2, texts2 = ax.pie(vals.flatten(), radius=1-size, colors=inner_colors,\n",
    "       wedgeprops=dict(width=size, edgecolor='w'))\n",
    "\n",
    "ax.set(aspect=\"equal\", title='Repartition of the packages by classes and -fno-rtti')\n",
    "\n",
    "ax.legend(wedges + wedges2,\n",
    "          [\n",
    "              'classes extracted',\n",
    "              'no classes extracted',\n",
    "              'no mention of -fno-rtti',\n",
    "              'mentions -fno-rtti',\n",
    "          ],\n",
    "          title=\"legend\",\n",
    "          loc=\"center left\",\n",
    "          bbox_to_anchor=(1, 0, 0.5, 1))\n",
    "\n",
    "plt.show()\n",
    "print(\"A \\\"Mention\\\" of `-fno-rtti` means that there were results when running a global grep for `-fno-rtti` in the package's source code\")\n",
    "print(\"Usually, we see that in a same project, two binaries can be compiled with different flags, which leads to this result.\")"
   ]
  },
  {
   "cell_type": "code",
   "execution_count": 8,
   "id": "f9f33f7e",
   "metadata": {},
   "outputs": [
    {
     "name": "stdout",
     "output_type": "stream",
     "text": [
      "Top 20 packages by number of unique classes:\n",
      " - insighttoolkit4-python has 32801 classes\n",
      " - libsimpleitk1.0 has 20385 classes\n",
      " - bagel has 19843 classes\n",
      " - libreoffice-core has 8259 classes\n",
      " - mlpack-bin has 6377 classes\n",
      " - scummvm has 5931 classes\n",
      " - clickhouse-tools has 5360 classes\n",
      " - freeorion has 5230 classes\n",
      " - freefem++ has 4116 classes\n",
      " - itksnap has 3866 classes\n",
      " - ceph-test has 3372 classes\n",
      " - libreoffice-calc has 3080 classes\n",
      " - qtcreator has 2992 classes\n",
      " - lldb-7 has 2986 classes\n",
      " - godot3 has 2877 classes\n",
      " - libreoffice-writer has 2873 classes\n",
      " - liblldb-7 has 2851 classes\n",
      " - ecflow-client has 2841 classes\n",
      " - godot3-server has 2804 classes\n",
      " - caffe-tools-cpu has 2772 classes\n"
     ]
    }
   ],
   "source": [
    "classes_in_packages.sort(key=lambda p: p[1], reverse=True)\n",
    "n = 20\n",
    "print(\"Top %d packages by number of unique classes:\" % n)\n",
    "for (p, c) in classes_in_packages[:n]:\n",
    "    print(\" - %s has %d classes\" % (p ,c))"
   ]
  },
  {
   "cell_type": "code",
   "execution_count": 9,
   "id": "8ded2ce4",
   "metadata": {},
   "outputs": [
    {
     "data": {
      "image/png": "[encoded data removed]",
      "text/plain": [
       "<Figure size 1080x288 with 1 Axes>"
      ]
     },
     "metadata": {
      "needs_background": "light"
     },
     "output_type": "display_data"
    }
   ],
   "source": [
    "x = range(classes_in_packages[20][1] + 1)\n",
    "y = [distribution.get(v) or 0 for v in x]\n",
    "plt.figure(figsize=(15,4))\n",
    "plt.plot(x, y)\n",
    "plt.yscale('log')\n",
    "plt.title(\"Class quantity distribution excluding the top 20 packages by number of classes\")\n",
    "plt.xlabel(\"Number of classes\")\n",
    "plt.ylabel(\"Number of packages - log scale\")\n",
    "plt.show()"
   ]
  },
  {
   "cell_type": "markdown",
   "id": "c9b056c7",
   "metadata": {},
   "source": [
    "## By popularity\n",
    "\n",
    "We now use data from [popcon](https://popcon.debian.org), the official debian popularity contest, in order to sort and isolate packages by **installation** and **usage**."
   ]
  },
  {
   "cell_type": "code",
   "execution_count": 10,
   "id": "1a7142de",
   "metadata": {},
   "outputs": [],
   "source": [
    "res = requests.get(\"https://popcon.debian.org/by_inst\")\n",
    "popularity = res.text"
   ]
  },
  {
   "cell_type": "code",
   "execution_count": 11,
   "id": "dbab5cd0",
   "metadata": {},
   "outputs": [],
   "source": [
    "classes_dict = dict(classes_in_packages)"
   ]
  },
  {
   "cell_type": "code",
   "execution_count": 12,
   "id": "d8ac945c",
   "metadata": {},
   "outputs": [],
   "source": [
    "packages_with_votes = []\n",
    "for line in popularity.split(\"\\n\")[:-3]:\n",
    "    if line[0] == \"#\":\n",
    "        continue\n",
    "    (name, inst, vote) = line.split()[1:4]\n",
    "    classes = classes_dict.get(name)\n",
    "    if classes != None:\n",
    "        packages_with_votes.append((name, int(inst), int(vote), classes))"
   ]
  },
  {
   "cell_type": "code",
   "execution_count": 13,
   "id": "a2781828",
   "metadata": {},
   "outputs": [
    {
     "name": "stdout",
     "output_type": "stream",
     "text": [
      "In the top 100 C++ packages, sorted by installations:\n",
      "There are 39 packages with no classes (either -fno-rtti or no virtual methods).\n",
      "There is a mean of 217 unique classes per package\n",
      "\n",
      "In the top 100 C++ packages, sorted by usage:\n",
      "There are 29 packages with no classes (either -fno-rtti or no virtual methods).\n",
      "There is a mean of 234 unique classes per package\n",
      "\n",
      "In the top 1000 C++ packages, sorted by installations:\n",
      "There are 390 packages with no classes (either -fno-rtti or no virtual methods).\n",
      "There is a mean of 103 unique classes per package\n",
      "\n",
      "In the top 1000 C++ packages, sorted by usage:\n",
      "There are 360 packages with no classes (either -fno-rtti or no virtual methods).\n",
      "There is a mean of 110 unique classes per package\n"
     ]
    }
   ],
   "source": [
    "by_inst = sorted(packages_with_votes, key=lambda x: x[1], reverse=True)\n",
    "by_vote = sorted(packages_with_votes, key=lambda x: x[2], reverse=True)\n",
    "\n",
    "def print_stats(sorted_list, n):\n",
    "    mean = 0\n",
    "    no_classes = 0\n",
    "    filtered_list = sorted_list[:n]\n",
    "    for v in filtered_list:\n",
    "        mean += v[-1]\n",
    "        if v[-1] == 0:\n",
    "            no_classes += 1\n",
    "    mean /= n\n",
    "    print(\"There are %d packages with no classes (either -fno-rtti or no virtual methods).\" % no_classes)\n",
    "    print(\"There is a mean of %d unique classes per package\" % mean)\n",
    "\n",
    "n = 100\n",
    "print(\"In the top %d C++ packages, sorted by installations:\" % n)\n",
    "print_stats(by_inst, n)\n",
    "print()\n",
    "print(\"In the top %d C++ packages, sorted by usage:\" % n)\n",
    "print_stats(by_vote, n)\n",
    "\n",
    "n = 1000\n",
    "print()\n",
    "print(\"In the top %d C++ packages, sorted by installations:\" % n)\n",
    "print_stats(by_inst, n)\n",
    "print()\n",
    "print(\"In the top %d C++ packages, sorted by usage:\" % n)\n",
    "print_stats(by_vote, n)"
   ]
  },
  {
   "cell_type": "markdown",
   "id": "8c478b37",
   "metadata": {},
   "source": [
    "## Conclusion\n",
    "\n",
    "Overall, this analysis is quite positive for the project : Around **40%** of **regularly used and installed C++ packages** have RTTI info we can extract, and the quantity of classes we can recover is not negligeable !"
   ]
  }
 ],
 "metadata": {
  "kernelspec": {
   "display_name": "Python 3",
   "language": "python",
   "name": "python3"
  },
  "language_info": {
   "codemirror_mode": {
    "name": "ipython",
    "version": 3
   },
   "file_extension": ".py",
   "mimetype": "text/x-python",
   "name": "python",
   "nbconvert_exporter": "python",
   "pygments_lexer": "ipython3",
   "version": "3.8.8"
  }
 },
 "nbformat": 4,
 "nbformat_minor": 5
}
